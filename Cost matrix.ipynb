{
 "cells": [
  {
   "cell_type": "code",
   "execution_count": 4,
   "id": "49766bde-d719-42d9-a4fc-03076124c754",
   "metadata": {},
   "outputs": [],
   "source": [
    "import pandas as pd\n",
    "import matplotlib.pyplot as plt\n",
    "import numpy as np"
   ]
  },
  {
   "cell_type": "code",
   "execution_count": null,
   "id": "23363fa4-654e-477f-b562-3df78e276ced",
   "metadata": {},
   "outputs": [],
   "source": [
    "!pip3 install seaborn"
   ]
  },
  {
   "cell_type": "code",
   "execution_count": 8,
   "id": "93d7e79e-5f14-4bc1-99ae-70289f588c9a",
   "metadata": {},
   "outputs": [],
   "source": [
    "#GridSearch / cross validation에서 사용되는 scoring에 대해 사용자 정의\n",
    "\n",
    "from sklearn.metrics import confusion_matrix, make_scorer\n",
    "\n",
    "def cost_function(y,y_pred):\n",
    "    conf_mat = confusion_matrix(y, y_pred, normalize=\"all\")\n",
    "    cost = sum(sum(conf_mat*cost_matrix))\n",
    "    return cost\n",
    "\n",
    "score = make_scorer(cost_function, greater_is_better = True)\n",
    "\n",
    "#사용 예시는 아래에"
   ]
  },
  {
   "cell_type": "code",
   "execution_count": 10,
   "id": "f1c631a5-307e-4fe9-b8ac-8fa5328f2db1",
   "metadata": {
    "tags": []
   },
   "outputs": [],
   "source": [
    "from sklearn.preprocessing import MinMaxScaler\n",
    "from sklearn.model_selection import train_test_split\n",
    "\n",
    "url = 'https://drive.google.com/file/d/1vM9N1TLNAZkNgwh2bEsX0NCmI5o2hfKI/view?usp=sharing'\n",
    "def f(x):\n",
    "    y = 'https://drive.google.com/uc?export=download&id='+x.split('/')[-2]\n",
    "    return y\n",
    "\n",
    "df = pd.read_csv(f(url))\n",
    "scaler = MinMaxScaler()\n",
    "df[:] = scaler.fit_transform(df[:])\n",
    "\n",
    "X = df.drop('left',axis=1)\n",
    "y = df['left']\n",
    "\n",
    "X = np.array(X)\n",
    "y = np.array(y)"
   ]
  },
  {
   "cell_type": "code",
   "execution_count": 7,
   "id": "c217ce5f-e760-4e62-bbfd-b722b735bca2",
   "metadata": {
    "scrolled": true,
    "tags": []
   },
   "outputs": [
    {
     "ename": "NameError",
     "evalue": "name 'make_scorer' is not defined",
     "output_type": "error",
     "traceback": [
      "\u001b[0;31m---------------------------------------------------------------------------\u001b[0m",
      "\u001b[0;31mNameError\u001b[0m                                 Traceback (most recent call last)",
      "\u001b[0;32m/var/folders/89/v4dklkc50rq7_mzc5kgg_9l00000gn/T/ipykernel_88433/2907746611.py\u001b[0m in \u001b[0;36m<module>\u001b[0;34m\u001b[0m\n\u001b[1;32m     16\u001b[0m     \u001b[0;32mreturn\u001b[0m \u001b[0mcost\u001b[0m\u001b[0;34m\u001b[0m\u001b[0;34m\u001b[0m\u001b[0m\n\u001b[1;32m     17\u001b[0m \u001b[0;34m\u001b[0m\u001b[0m\n\u001b[0;32m---> 18\u001b[0;31m \u001b[0mscore\u001b[0m \u001b[0;34m=\u001b[0m \u001b[0mmake_scorer\u001b[0m\u001b[0;34m(\u001b[0m\u001b[0mcost_function\u001b[0m\u001b[0;34m,\u001b[0m \u001b[0mgreater_is_better\u001b[0m \u001b[0;34m=\u001b[0m \u001b[0;32mTrue\u001b[0m\u001b[0;34m)\u001b[0m\u001b[0;34m\u001b[0m\u001b[0;34m\u001b[0m\u001b[0m\n\u001b[0m\u001b[1;32m     19\u001b[0m \u001b[0;34m\u001b[0m\u001b[0m\n\u001b[1;32m     20\u001b[0m \u001b[0;31m#####\u001b[0m\u001b[0;34m\u001b[0m\u001b[0;34m\u001b[0m\u001b[0;34m\u001b[0m\u001b[0m\n",
      "\u001b[0;31mNameError\u001b[0m: name 'make_scorer' is not defined"
     ]
    }
   ],
   "source": [
    "#K-NN cost.mat에 따른 hyperparameter tuning\n",
    "\n",
    "from sklearn.neighbors import KNeighborsClassifier\n",
    "from sklearn.model_selection import cross_val_score\n",
    "\n",
    "k_range = range(1,100)              # k를 1~100까지 고려하여 최적의 k를 찾을 것이다.\n",
    "k_cost = []                     # 각 k들의 성능을 비교하기 위한 리스트생성이다.\n",
    "\n",
    "#GridSearch / cross validation에서 사용되는 scoring에 대해 사용자 정의\n",
    "\n",
    "cost_matrix = [[0, -346],[-3130, -346]]\n",
    "    \n",
    "def cost_function(y,y_pred):\n",
    "    conf_mat = confusion_matrix(y, y_pred, normalize=\"all\")\n",
    "    cost = sum(sum(conf_mat*cost_matrix))\n",
    "    return cost\n",
    "\n",
    "score = make_scorer(cost_function, greater_is_better = True)\n",
    "\n",
    "#####\n",
    "\n",
    "for k in k_range :\n",
    "    kn = KNeighborsClassifier(n_neighbors=k)\n",
    "    result = cross_val_score(kn,X,y,cv=5,scoring = score)\n",
    "    k_cost.append(np.mean(result))\n",
    "    print(k)\n"
   ]
  },
  {
   "cell_type": "code",
   "execution_count": 40,
   "id": "03d0f9f2-28eb-4460-b8e1-9621b23b3323",
   "metadata": {},
   "outputs": [
    {
     "data": {
      "text/plain": [
       "[<matplotlib.lines.Line2D at 0x7fbaca458210>]"
      ]
     },
     "execution_count": 40,
     "metadata": {},
     "output_type": "execute_result"
    },
    {
     "data": {
      "image/png": "[encoded data removed]",
      "text/plain": [
       "<Figure size 432x288 with 1 Axes>"
      ]
     },
     "metadata": {
      "needs_background": "light"
     },
     "output_type": "display_data"
    }
   ],
   "source": [
    "plt.plot(range(1,100),k_cost)"
   ]
  },
  {
   "cell_type": "code",
   "execution_count": 51,
   "id": "d1a13bc0-6cd5-48fd-bd5c-8cf5a244fb00",
   "metadata": {},
   "outputs": [
    {
     "data": {
      "text/plain": [
       "-117.16421469378682"
      ]
     },
     "execution_count": 51,
     "metadata": {},
     "output_type": "execute_result"
    }
   ],
   "source": [
    "k_cost[0]"
   ]
  },
  {
   "cell_type": "code",
   "execution_count": 9,
   "id": "e5d02d6f-4c3c-414a-8ece-ce1ccc42535b",
   "metadata": {
    "scrolled": true,
    "tags": []
   },
   "outputs": [
    {
     "name": "stdout",
     "output_type": "stream",
     "text": [
      "1\n"
     ]
    },
    {
     "ename": "TypeError",
     "evalue": "cost_function() got an unexpected keyword argument 'normalize'",
     "output_type": "error",
     "traceback": [
      "\u001b[0;31m---------------------------------------------------------------------------\u001b[0m",
      "\u001b[0;31mTypeError\u001b[0m                                 Traceback (most recent call last)",
      "\u001b[0;32m/var/folders/89/v4dklkc50rq7_mzc5kgg_9l00000gn/T/ipykernel_88433/3736028032.py\u001b[0m in \u001b[0;36m<module>\u001b[0;34m\u001b[0m\n\u001b[1;32m     20\u001b[0m         \u001b[0my_train_targs\u001b[0m \u001b[0;34m=\u001b[0m \u001b[0my\u001b[0m\u001b[0;34m[\u001b[0m\u001b[0mtest\u001b[0m\u001b[0;34m]\u001b[0m\u001b[0;34m\u001b[0m\u001b[0;34m\u001b[0m\u001b[0m\n\u001b[1;32m     21\u001b[0m \u001b[0;34m\u001b[0m\u001b[0m\n\u001b[0;32m---> 22\u001b[0;31m         \u001b[0mcostf\u001b[0m\u001b[0;34m.\u001b[0m\u001b[0mappend\u001b[0m\u001b[0;34m(\u001b[0m\u001b[0mcost_function\u001b[0m\u001b[0;34m(\u001b[0m\u001b[0mX_train_preds\u001b[0m\u001b[0;34m,\u001b[0m \u001b[0my_train_targs\u001b[0m\u001b[0;34m,\u001b[0m \u001b[0mnormalize\u001b[0m\u001b[0;34m=\u001b[0m\u001b[0;34m\"all\"\u001b[0m\u001b[0;34m)\u001b[0m\u001b[0;34m)\u001b[0m\u001b[0;34m\u001b[0m\u001b[0;34m\u001b[0m\u001b[0m\n\u001b[0m\u001b[1;32m     23\u001b[0m     \u001b[0mcost\u001b[0m\u001b[0;34m.\u001b[0m\u001b[0mappend\u001b[0m\u001b[0;34m(\u001b[0m\u001b[0mnp\u001b[0m\u001b[0;34m.\u001b[0m\u001b[0mmean\u001b[0m\u001b[0;34m(\u001b[0m\u001b[0mcostf\u001b[0m\u001b[0;34m)\u001b[0m\u001b[0;34m)\u001b[0m\u001b[0;34m\u001b[0m\u001b[0;34m\u001b[0m\u001b[0m\n\u001b[1;32m     24\u001b[0m     \u001b[0mcostf\u001b[0m \u001b[0;34m=\u001b[0m \u001b[0;34m[\u001b[0m\u001b[0;34m]\u001b[0m\u001b[0;34m\u001b[0m\u001b[0;34m\u001b[0m\u001b[0m\n",
      "\u001b[0;31mTypeError\u001b[0m: cost_function() got an unexpected keyword argument 'normalize'"
     ]
    }
   ],
   "source": [
    "#오버샘플링\n",
    "\n",
    "from sklearn.model_selection import StratifiedKFold\n",
    "from imblearn.over_sampling import BorderlineSMOTE\n",
    "\n",
    "cv = StratifiedKFold(n_splits = 5)\n",
    "\n",
    "costf = []\n",
    "cost = []\n",
    "\n",
    "for j in range(1,100):\n",
    "    print(j)\n",
    "    for i, (train, test) in enumerate(cv.split(X, y)):\n",
    "        kn = KNeighborsClassifier(n_neighbors=j)\n",
    "        oversample = BorderlineSMOTE()\n",
    "        X1, y1 = oversample.fit_resample(X[train], y[train])\n",
    "        kn.fit(X1, y1)\n",
    "    \n",
    "        X_train_preds = kn.predict(X[test])\n",
    "        y_train_targs = y[test]\n",
    "    \n",
    "        costf.append(cost_function(X_train_preds, y_train_targs))\n",
    "    cost.append(np.mean(costf))\n",
    "    costf = []"
   ]
  },
  {
   "cell_type": "code",
   "execution_count": 41,
   "id": "af333bc8-ebbd-4d0c-a47f-199588d7fcbd",
   "metadata": {},
   "outputs": [
    {
     "data": {
      "text/plain": [
       "[<matplotlib.lines.Line2D at 0x7fbad8e62450>]"
      ]
     },
     "execution_count": 41,
     "metadata": {},
     "output_type": "execute_result"
    },
    {
     "data": {
      "image/png": "[encoded data removed]",
      "text/plain": [
       "<Figure size 432x288 with 1 Axes>"
      ]
     },
     "metadata": {
      "needs_background": "light"
     },
     "output_type": "display_data"
    }
   ],
   "source": [
    "plt.plot(range(1,100), cost)"
   ]
  },
  {
   "cell_type": "code",
   "execution_count": 50,
   "id": "6c7b0fc4-1ca9-4de3-a6d4-4565d199b063",
   "metadata": {},
   "outputs": [
    {
     "data": {
      "text/plain": [
       "-189.42895960875845"
      ]
     },
     "execution_count": 50,
     "metadata": {},
     "output_type": "execute_result"
    }
   ],
   "source": [
    "cost[1]"
   ]
  },
  {
   "cell_type": "code",
   "execution_count": 42,
   "id": "575eb5da-e4f7-4978-8d9e-c7ef1c6e2c1b",
   "metadata": {
    "scrolled": true,
    "tags": []
   },
   "outputs": [
    {
     "name": "stdout",
     "output_type": "stream",
     "text": [
      "1\n",
      "2\n",
      "3\n",
      "4\n",
      "5\n",
      "6\n",
      "7\n",
      "8\n",
      "9\n",
      "10\n",
      "11\n",
      "12\n",
      "13\n",
      "14\n",
      "15\n",
      "16\n",
      "17\n",
      "18\n",
      "19\n",
      "20\n",
      "21\n",
      "22\n",
      "23\n",
      "24\n",
      "25\n",
      "26\n",
      "27\n",
      "28\n",
      "29\n",
      "30\n",
      "31\n",
      "32\n",
      "33\n",
      "34\n",
      "35\n",
      "36\n",
      "37\n",
      "38\n",
      "39\n",
      "40\n",
      "41\n",
      "42\n",
      "43\n",
      "44\n",
      "45\n",
      "46\n",
      "47\n",
      "48\n",
      "49\n",
      "50\n",
      "51\n",
      "52\n",
      "53\n",
      "54\n",
      "55\n",
      "56\n",
      "57\n",
      "58\n",
      "59\n",
      "60\n",
      "61\n",
      "62\n",
      "63\n",
      "64\n",
      "65\n",
      "66\n",
      "67\n",
      "68\n",
      "69\n",
      "70\n",
      "71\n",
      "72\n",
      "73\n",
      "74\n",
      "75\n",
      "76\n",
      "77\n",
      "78\n",
      "79\n",
      "80\n",
      "81\n",
      "82\n",
      "83\n",
      "84\n",
      "85\n",
      "86\n",
      "87\n",
      "88\n",
      "89\n",
      "90\n",
      "91\n",
      "92\n",
      "93\n",
      "94\n",
      "95\n",
      "96\n",
      "97\n",
      "98\n",
      "99\n"
     ]
    }
   ],
   "source": [
    "#언더샘플링\n",
    "\n",
    "from sklearn.model_selection import StratifiedKFold\n",
    "from imblearn.under_sampling import NearMiss\n",
    "\n",
    "cv = StratifiedKFold(n_splits = 5)\n",
    "\n",
    "costf = []\n",
    "cost_u = []\n",
    "\n",
    "for j in range(1,100):\n",
    "    print(j)\n",
    "    for i, (train, test) in enumerate(cv.split(X, y)):\n",
    "        kn = KNeighborsClassifier(n_neighbors=j)\n",
    "        undersample = NearMiss(version=1, n_neighbors=3)\n",
    "        X1, y1 = undersample.fit_resample(X, y)\n",
    "        kn.fit(X1, y1)\n",
    "    \n",
    "        X_train_preds = kn.predict(X[test])\n",
    "        y_train_targs = y[test]\n",
    "    \n",
    "        costf.append(cost_function(X_train_preds, y_train_targs))\n",
    "    cost_u.append(np.mean(costf))\n",
    "    costf = []"
   ]
  },
  {
   "cell_type": "code",
   "execution_count": 43,
   "id": "99f5b5c3-8c8d-4fc5-a2eb-01251f6c49f7",
   "metadata": {},
   "outputs": [
    {
     "data": {
      "text/plain": [
       "[<matplotlib.lines.Line2D at 0x7fbb0b85bdd0>]"
      ]
     },
     "execution_count": 43,
     "metadata": {},
     "output_type": "execute_result"
    },
    {
     "data": {
      "image/png": "[encoded data removed]",
      "text/plain": [
       "<Figure size 432x288 with 1 Axes>"
      ]
     },
     "metadata": {
      "needs_background": "light"
     },
     "output_type": "display_data"
    }
   ],
   "source": [
    "plt.plot(range(1,100), cost_u)"
   ]
  },
  {
   "cell_type": "code",
   "execution_count": 49,
   "id": "3281c742-ec9d-471c-acd3-3c4425174252",
   "metadata": {},
   "outputs": [
    {
     "data": {
      "text/plain": [
       "-309.43038341669444"
      ]
     },
     "execution_count": 49,
     "metadata": {},
     "output_type": "execute_result"
    }
   ],
   "source": [
    "cost_u[1]"
   ]
  },
  {
   "cell_type": "code",
   "execution_count": null,
   "id": "4662ffc0-98ef-485e-9c4d-1530c3a38793",
   "metadata": {},
   "outputs": [],
   "source": []
  }
 ],
 "metadata": {
  "kernelspec": {
   "display_name": "Python 3 (ipykernel)",
   "language": "python",
   "name": "python3"
  },
  "language_info": {
   "codemirror_mode": {
    "name": "ipython",
    "version": 3
   },
   "file_extension": ".py",
   "mimetype": "text/x-python",
   "name": "python",
   "nbconvert_exporter": "python",
   "pygments_lexer": "ipython3",
   "version": "3.7.11"
  }
 },
 "nbformat": 4,
 "nbformat_minor": 5
}
